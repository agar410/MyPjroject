{
 "cells": [
  {
   "cell_type": "code",
   "execution_count": null,
   "metadata": {},
   "outputs": [],
   "source": []
  },
  {
   "cell_type": "code",
   "execution_count": 5,
   "metadata": {},
   "outputs": [],
   "source": [
    "import pandas as pd\n",
    "from datetime import datetime\n",
    "import time\n",
    "import numpy as np\n",
    "\n",
    "data = pd.read_excel(\"A_P.xls\",index_col=\"User_Id\") "
   ]
  },
  {
   "cell_type": "code",
   "execution_count": 6,
   "metadata": {},
   "outputs": [],
   "source": [
    "lower_status=0\n",
    "upper_status=0\n",
    "digit_status=0\n",
    "len_status=0\n",
    "Account_status=0"
   ]
  },
  {
   "cell_type": "code",
   "execution_count": 7,
   "metadata": {},
   "outputs": [
    {
     "name": "stdout",
     "output_type": "stream",
     "text": [
      "---- 0\n"
     ]
    }
   ],
   "source": [
    "YN=input(\"是否建立帳號(y/n):\")\n",
    "if YN==\"y\":\n",
    "    Account=input(\"建立帳號:\")\n",
    "    bool_=data[\"User_Account\"].isin([Account])\n",
    "    for i in range(0,bool_.shape[0]):\n",
    "        if bool_[i]==True:\n",
    "            Account_status=1\n",
    "            break\n",
    "        else:\n",
    "            Account_status=0 \n",
    "    print(\"----\",Account_status)\n",
    "    if Account_status==1:\n",
    "        while Account_status==1:\n",
    "           Account=input(\"帳號重複，請重新輸入:\")\n",
    "           bool_=data[\"User_Account\"].isin([Account])\n",
    "           for i in range(0,bool_.shape[0]):\n",
    "               if bool_[i]==True:\n",
    "                   Account_status=1\n",
    "                   break\n",
    "               else:\n",
    "                   Account_status=0 \n",
    "        print(\"----------*\",Account) \n",
    "\n",
    "    PassWord=input(\"輸入密碼:\")\n",
    "\n",
    "    for i in PassWord:\n",
    "         if i.islower():\n",
    "             lower_status=1\n",
    "             break   \n",
    "         else:\n",
    "             lower_status=0\n",
    "\n",
    "    for i in PassWord:\n",
    "         if i.isupper():\n",
    "             upper_status=1\n",
    "             break\n",
    "         else:\n",
    "             upper_status=0\n",
    "    for i in PassWord:\n",
    "         if i.isdigit():\n",
    "             digit_status=1\n",
    "             break \n",
    "         else:\n",
    "             digit_status=0\n",
    "\n",
    "    if len(PassWord)>=8:\n",
    "        len_status=1\n",
    "    else:\n",
    "        len_status=0\n",
    "    check_passWord=1\n",
    "    if lower_status==0 or upper_status==0 or digit_status==0 or digit_status==0 or len_status==0:\n",
    "        while check_passWord==1:\n",
    "            PassWord=input(\"格式錯誤，請重新輸入密碼:\")\n",
    "            for i in PassWord:\n",
    "                if i.islower():\n",
    "                    lower_status=1\n",
    "                    break\n",
    "                else:\n",
    "                    lower_status=0\n",
    "#---------------------------\n",
    "            for i in PassWord:\n",
    "                if i.isupper():\n",
    "                    upper_status=1\n",
    "                    break\n",
    "                else:\n",
    "                    upper_status=0\n",
    "#---------------------------\n",
    "            for i in PassWord:\n",
    "                if i.isdigit():\n",
    "                    digit_status=1\n",
    "                    break\n",
    "                else:\n",
    "                    digit_status=0     \n",
    "#---------------------------\n",
    "            if len(PassWord)>=8:\n",
    "                len_status=1\n",
    "            else:\n",
    "                len_status=0 \n",
    "            if lower_status==1 and upper_status==1 or digit_status==1 or digit_status==1 or len_status==1:\n",
    "                check_passWord=0    \n",
    "            #print(\"lower_status=\",lower_status, \" upper_status=\",upper_status,\" digit_status=\",digit_status,\"  len_status=\", len_status,len(PassWord),check_passWord)        \n",
    "        #print(\"註冊成功,是否要登入帳號(y/n):\") \n",
    "        #寫入data要做\n",
    "        date=datetime.now()\n",
    "        t=datetime.strftime(date, '%Y-%m-%d %H:%M')\n",
    "        data.loc[data.index.size]=[Account,PassWord,t,0,0]\n",
    "        LG=input(\"是否要登入帳號(y/n):\")               \n",
    "    else:\n",
    "        #print(\"註冊成功,是否要登入帳號(y/n):\")\n",
    "        #寫入data要做\n",
    "        date=datetime.now()\n",
    "        t=datetime.strftime(date, '%Y-%m-%d %H:%M')\n",
    "        data.loc[data.index.size]=[Account,PassWord,t,0,0]        \n",
    "        LG=input(\"是否要登入帳號(y/n):\")       \n",
    "else:\n",
    "   #print(\"是否要登入帳號(y/n):\")\n",
    "   LG=input(\"是否要登入帳號(y/n):\")      "
   ]
  },
  {
   "cell_type": "code",
   "execution_count": 8,
   "metadata": {},
   "outputs": [
    {
     "name": "stdout",
     "output_type": "stream",
     "text": [
      "帳號: agagag 密碼: g4101\n",
      "        User_Account                                     User_Password  \\\n",
      "User_Id                                                                  \n",
      "0                 ii                                             fewer   \n",
      "1                 xx                188_226_162_87_104_151_170_89_100_   \n",
      "2                 yx                189_226_162_87_104_151_170_89_100_   \n",
      "3                 ee  201_207_214_138_154_200_218_136_146_207_202_214_   \n",
      "4                 gg                    203_195_162_87_104_151_170_89_   \n",
      "5                 uu                    185_223_162_87_104_151_170_89_   \n",
      "6             agagag                                             g4101   \n",
      "\n",
      "                  Login_Time  Error_time  Login_Status  \n",
      "User_Id                                                 \n",
      "0        2021-04-26 00:00:00           0             0  \n",
      "1        2021-04-28 20:27:00           0             0  \n",
      "2        2021-04-28 20:55:00           0             1  \n",
      "3        2021-04-28 21:02:00           0             0  \n",
      "4        2021-04-28 21:04:00           0             0  \n",
      "5        2021-04-28 21:07:00           0             0  \n",
      "6           2025-03-15 16:21           0             0  \n"
     ]
    }
   ],
   "source": [
    "print(\"帳號:\",Account,\"密碼:\",PassWord)\n",
    "print(data)\n",
    "Error_time=0"
   ]
  },
  {
   "cell_type": "code",
   "execution_count": 9,
   "metadata": {},
   "outputs": [
    {
     "name": "stdout",
     "output_type": "stream",
     "text": [
      "y\n",
      "登入成功\n"
     ]
    }
   ],
   "source": [
    "if LG == \"y\":\n",
    "   print(\"y\")\n",
    "   Account=input(\"輸入帳號:\")\n",
    "   PassWord=input(\"輸入密碼:\")\n",
    "   bool_=data[\"User_Account\"].isin([Account])\n",
    "   for i in range(0,bool_.shape[0]):\n",
    "       if bool_[i]==True:\n",
    "           Account_status=1\n",
    "           local_=i\n",
    "           break\n",
    "       else:\n",
    "           Account_status=0\n",
    "   if Account_status==0:\n",
    "       while Account_status==0:\n",
    "           Error_time+=1\n",
    "           if Error_time ==3:\n",
    "               print(\"Error_time ==\",Error_time)\n",
    "               exit()\n",
    "           print(\"帳號密碼錯誤，請重新輸入:\")\n",
    "           Account=input(\"請重新輸入帳號:\")\n",
    "           PassWord=input(\"請重新輸入密碼:\")\n",
    "           bool_=data[\"User_Account\"].isin([Account])\n",
    "           for i in range(0,bool_.shape[0]):\n",
    "               if bool_[i]==True:\n",
    "                   Account_status=1\n",
    "                   local_=i\n",
    "                   break\n",
    "               else:\n",
    "                    Account_status=0\n",
    "       print(\"---*\")\n",
    "   if data.loc[local_,\"User_Password\"]==PassWord:\n",
    "       #登入時間寫入\n",
    "       print(\"登入成功\")\n",
    "   else:\n",
    "       PassWord_status=0\n",
    "       while PassWord_status==0:\n",
    "           Error_time+=1\n",
    "           if Error_time ==3:\n",
    "               print(\"Error_time ==\",Error_time)\n",
    "               exit()\n",
    "\n",
    "           print(\"密碼錯誤，請重新輸入:\")\n",
    "           PassWord=input(\"請重新輸入密碼:\")\n",
    "           if data.loc[local_,\"User_Password\"]==PassWord:\n",
    "               PassWord_status=1\n",
    "       #登入時間寫入        \n",
    "       print(\"登入成功\")\n",
    "\n",
    "\n",
    "else:\n",
    "   print(\"n\")"
   ]
  },
  {
   "cell_type": "code",
   "execution_count": 10,
   "metadata": {},
   "outputs": [],
   "source": [
    "UP=input(\"是否要修改密碼(y/n):\")  "
   ]
  }
 ],
 "metadata": {
  "kernelspec": {
   "display_name": "Python 3",
   "language": "python",
   "name": "python3"
  },
  "language_info": {
   "codemirror_mode": {
    "name": "ipython",
    "version": 3
   },
   "file_extension": ".py",
   "mimetype": "text/x-python",
   "name": "python",
   "nbconvert_exporter": "python",
   "pygments_lexer": "ipython3",
   "version": "3.9.0"
  },
  "metadata": {
   "interpreter": {
    "hash": "cb56554e22e7015c8034fdf988622508a740e712e9b2a73e8d246c741229446d"
   }
  },
  "orig_nbformat": 2
 },
 "nbformat": 4,
 "nbformat_minor": 2
}
