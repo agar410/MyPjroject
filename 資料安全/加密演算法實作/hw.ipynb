{
 "metadata": {
  "language_info": {
   "codemirror_mode": {
    "name": "ipython",
    "version": 3
   },
   "file_extension": ".py",
   "mimetype": "text/x-python",
   "name": "python",
   "nbconvert_exporter": "python",
   "pygments_lexer": "ipython3",
   "version": "3.9.0"
  },
  "orig_nbformat": 2,
  "kernelspec": {
   "name": "python390jvsc74a57bd0cb56554e22e7015c8034fdf988622508a740e712e9b2a73e8d246c741229446d",
   "display_name": "Python 3.9.0 64-bit"
  },
  "metadata": {
   "interpreter": {
    "hash": "cb56554e22e7015c8034fdf988622508a740e712e9b2a73e8d246c741229446d"
   }
  }
 },
 "nbformat": 4,
 "nbformat_minor": 2,
 "cells": [
  {
   "cell_type": "code",
   "execution_count": 177,
   "metadata": {},
   "outputs": [],
   "source": [
    "import pandas as pd\n",
    "from datetime import datetime\n",
    "import time\n",
    "import numpy as np\n",
    "\n",
    "data = pd.read_excel(\"A_P.xls\",index_col=\"User_Id\") "
   ]
  },
  {
   "cell_type": "code",
   "execution_count": 178,
   "metadata": {},
   "outputs": [
    {
     "output_type": "execute_result",
     "data": {
      "text/plain": [
       "        User_Account User_Password Login_Time  Error_time Login_Status\n",
       "User_Id                                                               \n",
       "0                 ii         fewer 2021-04-26         0.0   2021-04-26\n",
       "1                 gg          jioj        NaT         NaN          NaT"
      ],
      "text/html": "<div>\n<style scoped>\n    .dataframe tbody tr th:only-of-type {\n        vertical-align: middle;\n    }\n\n    .dataframe tbody tr th {\n        vertical-align: top;\n    }\n\n    .dataframe thead th {\n        text-align: right;\n    }\n</style>\n<table border=\"1\" class=\"dataframe\">\n  <thead>\n    <tr style=\"text-align: right;\">\n      <th></th>\n      <th>User_Account</th>\n      <th>User_Password</th>\n      <th>Login_Time</th>\n      <th>Error_time</th>\n      <th>Login_Status</th>\n    </tr>\n    <tr>\n      <th>User_Id</th>\n      <th></th>\n      <th></th>\n      <th></th>\n      <th></th>\n      <th></th>\n    </tr>\n  </thead>\n  <tbody>\n    <tr>\n      <th>0</th>\n      <td>ii</td>\n      <td>fewer</td>\n      <td>2021-04-26</td>\n      <td>0.0</td>\n      <td>2021-04-26</td>\n    </tr>\n    <tr>\n      <th>1</th>\n      <td>gg</td>\n      <td>jioj</td>\n      <td>NaT</td>\n      <td>NaN</td>\n      <td>NaT</td>\n    </tr>\n  </tbody>\n</table>\n</div>"
     },
     "metadata": {},
     "execution_count": 178
    }
   ],
   "source": [
    "data"
   ]
  },
  {
   "cell_type": "code",
   "execution_count": 179,
   "metadata": {},
   "outputs": [
    {
     "output_type": "stream",
     "name": "stdout",
     "text": [
      "建立帳號:\n"
     ]
    }
   ],
   "source": [
    "print(\"建立帳號:\")"
   ]
  },
  {
   "cell_type": "code",
   "execution_count": 180,
   "metadata": {},
   "outputs": [],
   "source": [
    "#data[\"User_Id\"]='pp'"
   ]
  },
  {
   "cell_type": "code",
   "execution_count": 181,
   "metadata": {},
   "outputs": [
    {
     "output_type": "stream",
     "name": "stdout",
     "text": [
      "        User_Account User_Password           Login_Time Error_time  \\\nUser_Id                                                              \n0                 ii         fewer  2021-04-26 00:00:00        0.0   \n1                 cc          fgsd            2021/4/26          0   \n2                 dd         fgsxd            2021/4/26          0   \n3                 ee           fxd            2021/4/26          0   \n\n                Login_Status  \nUser_Id                       \n0        2021-04-26 00:00:00  \n1                          0  \n2                          0  \n3                          0  \n"
     ]
    }
   ],
   "source": [
    "#data.loc[0]=['aa','fagsd','2021/4/26','0','0']\n",
    "data.loc[1]=['cc','fgsd','2021/4/26','0','0']\n",
    "data.loc[data.index.size]=['dd','fgsxd','2021/4/26','0','0']\n",
    "data.loc[data.index.size]=['ee','fxd','2021/4/26',0,'0']\n",
    "print(data)"
   ]
  },
  {
   "cell_type": "code",
   "execution_count": 182,
   "metadata": {},
   "outputs": [
    {
     "output_type": "execute_result",
     "data": {
      "text/plain": [
       "4"
      ]
     },
     "metadata": {},
     "execution_count": 182
    }
   ],
   "source": [
    "#data.to_excel(\"A_P_.xls\",na_rep=True)\n",
    "data.index.size"
   ]
  },
  {
   "cell_type": "code",
   "execution_count": 183,
   "metadata": {},
   "outputs": [
    {
     "output_type": "stream",
     "name": "stdout",
     "text": [
      "ee\n",
      "hio\n"
     ]
    }
   ],
   "source": [
    "lower_status=0\n",
    "upper_status=0\n",
    "digit_status=0\n",
    "len_status=0\n",
    "Account_status=0\n",
    "Account=input(\"建立帳號:\")\n",
    "print(Account)\n",
    "PassWord=input(\"輸入密碼:\")\n",
    "print(PassWord)"
   ]
  },
  {
   "cell_type": "code",
   "execution_count": 184,
   "metadata": {},
   "outputs": [
    {
     "output_type": "stream",
     "name": "stdout",
     "text": [
      "0\n1\n2\n3\n"
     ]
    }
   ],
   "source": [
    "data[\"User_Account\"]\n",
    "#data[\"User_Account\"].str.contains(Account)\n",
    "data[\"User_Account\"].isin([Account])\n",
    "#if data[\"User_Account\"].isin([Account]):\n",
    "#    Account_status=1\n",
    "bool_=data[\"User_Account\"].isin([Account])\n",
    "for i in range(0,bool_.shape[0]):\n",
    "    print(i)\n",
    "    if bool_[i]==True:\n",
    "        Account_status=1\n",
    "        local_=i\n",
    "        break\n",
    "        #print(i)\n",
    "\n",
    "   # print(i,\" index= \",i)"
   ]
  },
  {
   "cell_type": "code",
   "execution_count": 185,
   "metadata": {},
   "outputs": [],
   "source": [
    "for i in PassWord:\n",
    "    if i.islower():\n",
    "        lower_status=1\n",
    "        break    "
   ]
  },
  {
   "cell_type": "code",
   "execution_count": 186,
   "metadata": {},
   "outputs": [],
   "source": [
    "for i in PassWord:\n",
    "    if i.isupper():\n",
    "        upper_status=1\n",
    "        break   "
   ]
  },
  {
   "cell_type": "code",
   "execution_count": 187,
   "metadata": {},
   "outputs": [],
   "source": [
    "for i in PassWord:\n",
    "    if i.isdigit():\n",
    "        digit_status=1\n",
    "        break "
   ]
  },
  {
   "cell_type": "code",
   "execution_count": 188,
   "metadata": {},
   "outputs": [],
   "source": [
    "if len(PassWord)>=8:\n",
    "   len_status=1"
   ]
  },
  {
   "cell_type": "code",
   "execution_count": 189,
   "metadata": {},
   "outputs": [
    {
     "output_type": "stream",
     "name": "stdout",
     "text": [
      "lower_status= 1  upper_status= 0  digit_status= 0   len_status= 0  Account_status= 1 || 3\n"
     ]
    }
   ],
   "source": [
    "print(\"lower_status=\",lower_status, \" upper_status=\",upper_status,\" digit_status=\",digit_status,\"  len_status=\", len_status,\" Account_status=\",Account_status,\"||\",len(PassWord))"
   ]
  },
  {
   "cell_type": "code",
   "execution_count": 190,
   "metadata": {},
   "outputs": [],
   "source": [
    "date=datetime.now()"
   ]
  },
  {
   "cell_type": "code",
   "execution_count": 191,
   "metadata": {},
   "outputs": [],
   "source": [
    "t=datetime.strftime(date, '%Y-%m-%d %H:%M')"
   ]
  },
  {
   "cell_type": "code",
   "execution_count": 192,
   "metadata": {},
   "outputs": [],
   "source": [
    "t2=datetime.strptime(t,'%Y-%m-%d %H:%M')\n",
    "#print(t2)\n",
    "#print(datetime.now()-t2)"
   ]
  },
  {
   "cell_type": "code",
   "execution_count": 193,
   "metadata": {},
   "outputs": [
    {
     "output_type": "stream",
     "name": "stdout",
     "text": [
      "        User_Account User_Password           Login_Time Error_time  \\\nUser_Id                                                              \n0                 ii         fewer  2021-04-26 00:00:00        0.0   \n1                 cc          fgsd            2021/4/26          0   \n2                 dd         fgsxd            2021/4/26          0   \n3                 ee           fxd            2021/4/26          0   \n4                 ee           hio     2021-04-27 23:35          1   \n\n                Login_Status  \nUser_Id                       \n0        2021-04-26 00:00:00  \n1                          0  \n2                          0  \n3                          0  \n4                          0  \n"
     ]
    }
   ],
   "source": [
    "data.loc[data.index.size]=[Account,PassWord,t,1,'0']\n",
    "print(data)"
   ]
  },
  {
   "cell_type": "code",
   "execution_count": 194,
   "metadata": {},
   "outputs": [],
   "source": [
    "s=data.iloc[[local_],[1]]"
   ]
  },
  {
   "cell_type": "code",
   "execution_count": 195,
   "metadata": {},
   "outputs": [
    {
     "output_type": "execute_result",
     "data": {
      "text/plain": [
       "        User_Password\n",
       "User_Id              \n",
       "3                 fxd"
      ],
      "text/html": "<div>\n<style scoped>\n    .dataframe tbody tr th:only-of-type {\n        vertical-align: middle;\n    }\n\n    .dataframe tbody tr th {\n        vertical-align: top;\n    }\n\n    .dataframe thead th {\n        text-align: right;\n    }\n</style>\n<table border=\"1\" class=\"dataframe\">\n  <thead>\n    <tr style=\"text-align: right;\">\n      <th></th>\n      <th>User_Password</th>\n    </tr>\n    <tr>\n      <th>User_Id</th>\n      <th></th>\n    </tr>\n  </thead>\n  <tbody>\n    <tr>\n      <th>3</th>\n      <td>fxd</td>\n    </tr>\n  </tbody>\n</table>\n</div>"
     },
     "metadata": {},
     "execution_count": 195
    }
   ],
   "source": [
    "s\n",
    "#print(s.values[0])"
   ]
  },
  {
   "cell_type": "code",
   "execution_count": 196,
   "metadata": {},
   "outputs": [
    {
     "output_type": "stream",
     "name": "stdout",
     "text": [
      "fxd\n"
     ]
    }
   ],
   "source": [
    "s=data.loc[local_,\"User_Password\"]\n",
    "print(s)"
   ]
  },
  {
   "cell_type": "code",
   "execution_count": 197,
   "metadata": {},
   "outputs": [],
   "source": [
    "data.loc[local_,\"Error_time\"]=1"
   ]
  },
  {
   "cell_type": "code",
   "execution_count": 198,
   "metadata": {},
   "outputs": [
    {
     "output_type": "execute_result",
     "data": {
      "text/plain": [
       "1"
      ]
     },
     "metadata": {},
     "execution_count": 198
    }
   ],
   "source": [
    "data.loc[local_,\"Error_time\"]"
   ]
  }
 ]
}